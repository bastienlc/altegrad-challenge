{
 "cells": [
  {
   "cell_type": "code",
   "execution_count": null,
   "metadata": {},
   "outputs": [],
   "source": [
    "import torch\n",
    "from transformers import AutoTokenizer\n",
    "\n",
    "from load import load_dataset, load_test_dataset\n",
    "from models.baseline import get_embeddings\n",
    "from models.gat import GATModel\n",
    "from utils import solution_from_embeddings, get_metrics\n",
    "\n",
    "device = torch.device(\"cuda\" if torch.cuda.is_available() else \"cpu\")\n",
    "\n",
    "%load_ext autoreload\n",
    "%autoreload 2"
   ]
  },
  {
   "cell_type": "code",
   "execution_count": null,
   "metadata": {},
   "outputs": [],
   "source": [
    "model_name = \"sentence-transformers/all-MiniLM-L6-v2\"\n",
    "embeddings_dim = 384\n",
    "tokenizer = AutoTokenizer.from_pretrained(model_name)\n",
    "train_loader, val_loader = load_dataset(tokenizer)\n",
    "\n",
    "model = GATModel(\n",
    "    model_name=model_name,\n",
    "    num_node_features=300,\n",
    "    nout=embeddings_dim,\n",
    "    nhid=600,\n",
    "    graph_hidden_channels=600,\n",
    ").to(device)"
   ]
  },
  {
   "cell_type": "code",
   "execution_count": null,
   "metadata": {},
   "outputs": [],
   "source": [
    "save_path = (\n",
    "    \"./outputs/saved/sentence-transformers+all-MiniLM-L6-v2 + GAT 10 heads/model13.pt\"\n",
    ")\n",
    "print(\"Loading best model...\")\n",
    "checkpoint = torch.load(save_path)\n",
    "model.load_state_dict(checkpoint[\"model_state_dict\"])\n",
    "model.eval()"
   ]
  },
  {
   "cell_type": "code",
   "execution_count": null,
   "metadata": {},
   "outputs": [],
   "source": [
    "test_loader, test_text_loader = load_test_dataset(tokenizer)\n",
    "\n",
    "graph_embeddings, text_embeddings = get_embeddings(\n",
    "    model.get_graph_encoder(),\n",
    "    model.get_text_encoder(),\n",
    "    test_loader,\n",
    "    test_text_loader,\n",
    "    device,\n",
    ")"
   ]
  },
  {
   "cell_type": "code",
   "execution_count": null,
   "metadata": {},
   "outputs": [],
   "source": [
    "solution_from_embeddings(graph_embeddings, text_embeddings, save_to=f\"solution.csv\")"
   ]
  },
  {
   "cell_type": "code",
   "execution_count": null,
   "metadata": {},
   "outputs": [],
   "source": [
    "print(get_metrics(model, val_loader, device=device))"
   ]
  }
 ],
 "metadata": {
  "kernelspec": {
   "display_name": "altegrad",
   "language": "python",
   "name": "python3"
  },
  "language_info": {
   "codemirror_mode": {
    "name": "ipython",
    "version": 3
   },
   "file_extension": ".py",
   "mimetype": "text/x-python",
   "name": "python",
   "nbconvert_exporter": "python",
   "pygments_lexer": "ipython3",
   "version": "3.9.18"
  }
 },
 "nbformat": 4,
 "nbformat_minor": 2
}
