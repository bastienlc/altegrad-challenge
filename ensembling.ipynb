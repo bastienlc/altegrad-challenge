{
 "cells": [
  {
   "cell_type": "code",
   "execution_count": null,
   "metadata": {},
   "outputs": [],
   "source": [
    "import torch\n",
    "from transformers import AutoTokenizer\n",
    "\n",
    "from load import load_test_dataset\n",
    "from models.diffpool import DiffPoolModel\n",
    "from metrics import Metrics\n",
    "from utils import get_embeddings\n",
    "import pandas as pd\n",
    "\n",
    "device = torch.device(\"cuda\" if torch.cuda.is_available() else \"cpu\")\n",
    "\n",
    "%load_ext autoreload\n",
    "%autoreload 2"
   ]
  },
  {
   "cell_type": "code",
   "execution_count": null,
   "metadata": {},
   "outputs": [],
   "source": [
    "# define the different models in the ensemble\n",
    "\n",
    "models = [\n",
    "    DiffPoolModel(\n",
    "        model_name=\"sentence-transformers/all-MiniLM-L6-v2\",\n",
    "        num_node_features=300,\n",
    "        nout=384,\n",
    "    ),\n",
    "    DiffPoolModel(\n",
    "        model_name=\"sentence-transformers/all-mpnet-base-v2\",\n",
    "        num_node_features=300,\n",
    "        nout=768,\n",
    "    ),\n",
    "    DiffPoolModel(\n",
    "        model_name=\"sentence-transformers/all-MiniLM-L6-v2\",\n",
    "        num_node_features=300,\n",
    "        nout=384,\n",
    "        d_pooling_layers=[30, 10, 3, 1],\n",
    "        d_encoder_hidden_dims=[300, 600, 1200, 1200],\n",
    "        d_encoder_linear_layers=[[300], [600], [1200, 600], [1200, 600]],\n",
    "        d_encoder_num_heads=[3, 6, 12, 12],\n",
    "        d_encoder_num_layers=[10, 5, 3, 1],\n",
    "        d_linear=1200,\n",
    "        dropout=0,\n",
    "    ),\n",
    "]\n",
    "\n",
    "tokenizers = [\n",
    "    AutoTokenizer.from_pretrained(\"sentence-transformers/all-MiniLM-L6-v2\"),\n",
    "    AutoTokenizer.from_pretrained(\"sentence-transformers/all-mpnet-base-v2\"),\n",
    "    AutoTokenizer.from_pretrained(\"sentence-transformers/all-MiniLM-L6-v2\"),\n",
    "]\n",
    "\n",
    "saved_paths = [\n",
    "    \"./outputs/saved/circle_loss/circle70.pt\",\n",
    "    \"./outputs/saved/mpnet/model60.pt\",\n",
    "    \"./outputs/saved/diffpool30M/model63.pt\",\n",
    "]\n",
    "\n",
    "metrics = [Metrics(), Metrics(), Metrics()]"
   ]
  },
  {
   "cell_type": "code",
   "execution_count": null,
   "metadata": {},
   "outputs": [],
   "source": [
    "for k, (model, tokenizer, saved_path, metric) in enumerate(\n",
    "    zip(models, tokenizers, saved_paths, metrics)\n",
    "):\n",
    "    print(f\"Processing model {k+1}\")\n",
    "    test_loader, test_text_loader = load_test_dataset(tokenizer, batch_size=8)\n",
    "\n",
    "    checkpoint = torch.load(saved_path)\n",
    "    model.to(device)\n",
    "    model.load_state_dict(checkpoint[\"model_state_dict\"])\n",
    "    model.eval()\n",
    "\n",
    "    graph_embeddings, text_embeddings = get_embeddings(\n",
    "        model.get_graph_encoder(),\n",
    "        model.get_text_encoder(),\n",
    "        test_loader,\n",
    "        test_text_loader,\n",
    "        device,\n",
    "        low_memory=True,\n",
    "    )\n",
    "\n",
    "    similarity = metric.similarity(text_embeddings, graph_embeddings)\n",
    "\n",
    "    # Normalize this matrix of shape (n_samples, n_labels) to [0, 1] for each row\n",
    "    similarity = (similarity - similarity.min(axis=1)) / (\n",
    "        similarity.max(axis=1) - similarity.min(axis=1)\n",
    "    )\n",
    "\n",
    "    # save to file (because it is huge)\n",
    "    torch.save(similarity, f\"./outputs/similarities/similarity{k}.pt\")\n",
    "\n",
    "    # free memory\n",
    "    del similarity\n",
    "    model.to(\"cpu\")\n",
    "    del model\n",
    "    torch.cuda.empty_cache()"
   ]
  },
  {
   "cell_type": "code",
   "execution_count": null,
   "metadata": {},
   "outputs": [],
   "source": [
    "# take the average of the similarities\n",
    "for k in range(len(models)):\n",
    "    similarity = torch.load(f\"./outputs/similarities/similarity{k}.pt\")\n",
    "    if k == 0:\n",
    "        avg_similarity = similarity\n",
    "    else:\n",
    "        avg_similarity += similarity\n",
    "    del similarity\n",
    "\n",
    "avg_similarity /= len(models)"
   ]
  },
  {
   "cell_type": "code",
   "execution_count": null,
   "metadata": {},
   "outputs": [],
   "source": [
    "solution = pd.DataFrame(avg_similarity)\n",
    "solution[\"ID\"] = solution.index\n",
    "solution = solution[[\"ID\"] + [col for col in solution.columns if col != \"ID\"]]\n",
    "solution.to_csv(\"outputs/ensemble_solution.csv\", index=False)"
   ]
  }
 ],
 "metadata": {
  "kernelspec": {
   "display_name": "altegrad",
   "language": "python",
   "name": "python3"
  },
  "language_info": {
   "codemirror_mode": {
    "name": "ipython",
    "version": 3
   },
   "file_extension": ".py",
   "mimetype": "text/x-python",
   "name": "python",
   "nbconvert_exporter": "python",
   "pygments_lexer": "ipython3",
   "version": "3.9.18"
  }
 },
 "nbformat": 4,
 "nbformat_minor": 2
}
