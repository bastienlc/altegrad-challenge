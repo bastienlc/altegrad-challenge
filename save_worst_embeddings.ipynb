{
 "cells": [
  {
   "cell_type": "code",
   "execution_count": null,
   "metadata": {},
   "outputs": [],
   "source": [
    "import torch\n",
    "from transformers import AutoTokenizer\n",
    "from tqdm import tqdm\n",
    "from load import load_dataset\n",
    "from models.diffpool import DiffPoolModel\n",
    "from metrics import Metrics\n",
    "\n",
    "device = torch.device(\"cuda\" if torch.cuda.is_available() else \"cpu\")\n",
    "\n",
    "%load_ext autoreload\n",
    "%autoreload 2"
   ]
  },
  {
   "cell_type": "code",
   "execution_count": null,
   "metadata": {},
   "outputs": [],
   "source": [
    "model_name = \"sentence-transformers/all-MiniLM-L6-v2\"\n",
    "embeddings_dim = 384\n",
    "tokenizer = AutoTokenizer.from_pretrained(model_name)\n",
    "train_loader, val_loader = load_dataset(tokenizer)\n",
    "\n",
    "model = DiffPoolModel(\n",
    "    model_name=model_name,\n",
    "    num_node_features=300,\n",
    "    nout=embeddings_dim,\n",
    ").to(device)"
   ]
  },
  {
   "cell_type": "code",
   "execution_count": null,
   "metadata": {},
   "outputs": [],
   "source": [
    "save_path = \"outputs/saved/circle_loss/circle70.pt\"\n",
    "print(\"Loading best model...\")\n",
    "checkpoint = torch.load(save_path)\n",
    "model.load_state_dict(checkpoint[\"model_state_dict\"])\n",
    "model.eval()"
   ]
  },
  {
   "cell_type": "code",
   "execution_count": null,
   "metadata": {},
   "outputs": [],
   "source": [
    "import numpy as np\n",
    "import os\n",
    "\n",
    "train_loader, _ = load_dataset(tokenizer, shuffle=False, batch_size=32)\n",
    "\n",
    "model.eval()\n",
    "\n",
    "graph_embeddings = []\n",
    "text_embeddings = []\n",
    "loss = 0\n",
    "result = {}\n",
    "\n",
    "with torch.no_grad():\n",
    "    for batch in tqdm(train_loader):\n",
    "        input_ids = batch.input_ids\n",
    "        batch.pop(\"input_ids\")\n",
    "        attention_mask = batch.attention_mask\n",
    "        batch.pop(\"attention_mask\")\n",
    "        graph_batch = batch\n",
    "\n",
    "        x_graph, x_text = model(\n",
    "            graph_batch.to(device),\n",
    "            input_ids.to(device),\n",
    "            attention_mask.to(device),\n",
    "        )\n",
    "\n",
    "        for output in x_graph:\n",
    "            graph_embeddings.append(output.tolist())\n",
    "        for output in x_text:\n",
    "            text_embeddings.append(output.tolist())\n",
    "\n",
    "graph_embeddings, text_embeddings = (\n",
    "    torch.Tensor(np.array(graph_embeddings)),\n",
    "    torch.Tensor(np.array(text_embeddings)),\n",
    ")\n",
    "metric = Metrics(loss=\"circle\")\n",
    "similarities = metric.similarity(text_embeddings, graph_embeddings)"
   ]
  },
  {
   "cell_type": "code",
   "execution_count": null,
   "metadata": {},
   "outputs": [],
   "source": [
    "# get the 10% embeddings that have the worst cosine similarity\n",
    "worst_similarities_indices = torch.diagonal(similarities).argsort(descending=False)[\n",
    "    : int(len(similarities) * 0.1)\n",
    "]"
   ]
  },
  {
   "cell_type": "code",
   "execution_count": null,
   "metadata": {},
   "outputs": [],
   "source": [
    "print(similarities[worst_similarities_indices, worst_similarities_indices])\n",
    "\n",
    "worst_similarities_indices = worst_similarities_indices.tolist()\n",
    "print(worst_similarities_indices)\n",
    "print(len(worst_similarities_indices))"
   ]
  },
  {
   "cell_type": "code",
   "execution_count": null,
   "metadata": {
    "notebookRunGroups": {
     "groupValue": "1"
    }
   },
   "outputs": [],
   "source": [
    "try:\n",
    "    os.mkdir(\"./data/worst_embeddings\")\n",
    "    os.mkdir(\"./data/worst_embeddings/train\")\n",
    "except:\n",
    "    pass\n",
    "\n",
    "train_loader, _ = load_dataset(tokenizer, shuffle=False, batch_size=1)\n",
    "# create a new dataset with the worst embeddings\n",
    "for i, data in enumerate(tqdm(train_loader)):\n",
    "    if i in worst_similarities_indices:\n",
    "        torch.save(\n",
    "            data, os.path.join(\"./data/worst_embeddings/train\", \"data_{}.pt\".format(i))\n",
    "        )  # The id does not correspond to the CIDs but that's not a problem"
   ]
  }
 ],
 "metadata": {
  "kernelspec": {
   "display_name": "altegrad",
   "language": "python",
   "name": "python3"
  },
  "language_info": {
   "codemirror_mode": {
    "name": "ipython",
    "version": 3
   },
   "file_extension": ".py",
   "mimetype": "text/x-python",
   "name": "python",
   "nbconvert_exporter": "python",
   "pygments_lexer": "ipython3",
   "version": "3.9.18"
  }
 },
 "nbformat": 4,
 "nbformat_minor": 2
}
